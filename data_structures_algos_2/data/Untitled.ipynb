{
 "cells": [
  {
   "cell_type": "code",
   "execution_count": null,
   "metadata": {},
   "outputs": [],
   "source": [
    "# HashTable class using chaining.\n",
    "class HashTable:\n",
    "    # Assigns all buckets with an empty list.\n",
    "    def __init__(self, size=100):\n",
    "        # initialize the hash table with empty bucket list entries.\n",
    "        self.table = []\n",
    "        self.length = 0\n",
    "        for i in range(size):\n",
    "            self.table.append([])\n",
    "    def hash_key(self, key):\n",
    "        return hash(key) % len(self.table)\n",
    "    \n",
    "    # Inserts a new item into the hash table.\n",
    "    def add(self, key, value):\n",
    "        # get the bucket where this item will go.\n",
    "        bucket = self.hash_key(key)\n",
    "        item = list([key,value])\n",
    "        # Check if bucket has items\n",
    "        if self.table[bucket]:\n",
    "            found = False\n",
    "            for _item_ in self.table[bucket]:\n",
    "                if _item_[0] == key:\n",
    "                    _item_[1] = value\n",
    "                    found = True\n",
    "            # If bucket does not have key, add item\n",
    "            if not found:\n",
    "                self.table[bucket].append(item)\n",
    "                self.length +=1\n",
    "        # If bucket has no items, add item\n",
    "        else:\n",
    "            self.table[bucket].append(item)\n",
    "            self.length +=1\n",
    "         \n",
    "    # Searches for an item with matching key in the hash table.\n",
    "    # Returns the item if found, or None if not found.\n",
    "    def get(self, key):\n",
    "        # get the bucket list where this key would be.\n",
    "        bucket = self.hash_key(key)\n",
    "        if self.table[bucket]:\n",
    "            for _item_ in self.table[bucket]:\n",
    "                if _item_[0] == key:\n",
    "                    return _item_[1]    \n",
    "        # If not found returns None\n",
    "        print('Not found')\n",
    "        return None\n",
    "\n",
    "    # Removes an item with matching key from the hash table.\n",
    "    def drop(self, key):\n",
    "        # get the bucket list where this item will be removed from.\n",
    "        bucket = self.hash_key(key)\n",
    "\n",
    "        # remove the item from the bucket list if it is present.\n",
    "        if self.table[bucket]:\n",
    "            for index,_item_ in enumerate(self.table[bucket]):\n",
    "                if _item_[0] == key:\n",
    "                    self.table[bucket].pop(index)\n",
    "                    print(f'{key} was removed')\n",
    "                    self.length -=1\n",
    "                    return\n",
    "                \n",
    "        # If not found return\n",
    "        print(f'{key} not found')\n",
    "        return\n",
    "    def keys(self):\n",
    "        keys = []\n",
    "        for bucket in self.table:\n",
    "            for item in bucket:\n",
    "                keys.append(item[0])\n",
    "        return keys\n",
    "    def values(self):\n",
    "        values = []\n",
    "        for bucket in self.table:\n",
    "            for item in bucket:\n",
    "                values.append(item[1])\n",
    "        return values\n",
    "    def __str__(self):\n",
    "        keys = self.keys()\n",
    "        values = self.values()\n",
    "        table_to_str = '{'\n",
    "        for i in range(len(self.keys())):\n",
    "            table_to_str += f\"{repr(keys[i])}: \"\n",
    "            table_to_str += repr(values[i])\n",
    "            if i != len(self.keys()) -1:\n",
    "                table_to_str += ', ' +'\\n'\n",
    "            else:\n",
    "                table_to_str += '}'\n",
    "        return str(table_to_str)\n",
    "    def __getitem__(self, key):\n",
    "        return self.get(key)\n",
    "    def __setitem__(self, key,value):\n",
    "        self.add(key,value)\n",
    "    def __len__(self):\n",
    "        return self.length\n",
    "    def __iter__(self):\n",
    "        for key in self.keys():\n",
    "            yield key, self.get(key)"
   ]
  },
  {
   "cell_type": "code",
   "execution_count": null,
   "metadata": {},
   "outputs": [],
   "source": [
    "from collections import deque\n",
    "from datetime import time\n",
    "import csv\n",
    "\n",
    "package_file = 'WGU_package_file.csv'\n",
    "distance_file = 'WGUPS_distance_table.csv'\n",
    "\n",
    "\n",
    "def get_vertices():\n",
    "    vertices = []\n",
    "    import csv\n",
    "    with open(distance_file) as f:\n",
    "        spam = csv.DictReader(f)\n",
    "        for row in spam:\n",
    "            vertices.append(row['vertex'])\n",
    "    return vertices\n",
    "\n",
    "\n",
    "def adjacency_matrix():\n",
    "    vertices = []\n",
    "    with open(distance_file) as f:\n",
    "        spam = csv.DictReader(f)\n",
    "        for row in spam:\n",
    "            vertices.append(row['vertex'])\n",
    "    dict_of_dict = {}\n",
    "    for i in range(len(vertices)):\n",
    "        single_dict = {}\n",
    "        with open(distance_file) as f:\n",
    "            spam = csv.DictReader(f)\n",
    "            for row in spam:\n",
    "                single_dict[int(row['vertex'])] = float(row[str(i)])\n",
    "        dict_of_dict[i] = single_dict\n",
    "\n",
    "    return dict_of_dict\n",
    "\n",
    "\n",
    "def get_package_ids():\n",
    "    ids = []\n",
    "    with open(package_file) as f:\n",
    "        spam = csv.DictReader(f)\n",
    "        for row in spam:\n",
    "            ids.append(row['package ID number'])\n",
    "\n",
    "    return ids\n",
    "\n",
    "\n",
    "def get_package_info(package_id):\n",
    "    package_info = HashTable()\n",
    "    with open(package_file) as f:\n",
    "        spam = csv.DictReader(f)\n",
    "        headers = spam.fieldnames\n",
    "        for row in spam:\n",
    "            if row['package ID number'] == package_id:\n",
    "                for field in headers:\n",
    "                    package_info.add(field, row[field])\n",
    "                package_info.add('delivery status', 'at hub')\n",
    "\n",
    "    return package_info\n",
    "\n",
    "\n",
    "\n",
    "\n",
    "class Depot:\n",
    "    def __init__(self):\n",
    "        self.inventory = []\n",
    "        self.priority_ready = []\n",
    "        self.north_bound_ready = []\n",
    "        self.north_bound_hold = []\n",
    "        self.south_bound_priority = []\n",
    "        self.south_bound_ready = []\n",
    "        self.south_bound_hold = []\n",
    "\n",
    "    def receive_packages(self):\n",
    "        for item in get_package_ids():\n",
    "            pkg = Package(item)\n",
    "            pkg.at_hub = Time(8, 0).clock_time\n",
    "            self.inventory.append(pkg)\n",
    "\n",
    "    def route_priority(self):\n",
    "        self.priority_ready = nearest_neighbor(0, self.priority_ready)\n",
    "\n",
    "    def route_north_bound(self):\n",
    "        self.north_bound_ready = nearest_neighbor(0, self.north_bound_ready)\n",
    "\n",
    "    def route_north_bound_with_priority(self, priority):\n",
    "        self.north_bound_ready = nearest_neighbor(priority, self.north_bound_ready)\n",
    "\n",
    "    def route_south_bound(self):\n",
    "        self.south_bound_ready = nearest_neighbor(0, self.south_bound_ready)\n",
    "\n",
    "    def route_south_bound_with_priority(self, priority):\n",
    "        self.south_bound_ready = nearest_neighbor(priority, self.south_bound_ready)\n",
    "\n",
    "    def determine_truck_ready_hold(self, n_truck, s_truck):\n",
    "        north_bound, south_bound = algos.map_direction()\n",
    "        for pkg in self.inventory:\n",
    "            if pkg.vertex in north_bound:\n",
    "                if 'delayed' in pkg.info['Special Notes'].lower() and n_truck.time.time_delta < time(9,5):\n",
    "                    self.north_bound_hold.append(pkg)\n",
    "                elif 'wrong address' in pkg.info['Special Notes'].lower() and n_truck.time.time_delta < time(10,20):\n",
    "                    self.north_bound_hold.append(pkg)\n",
    "                else:\n",
    "                    self.north_bound_ready.append(pkg)\n",
    "            else:\n",
    "                if 'delayed' in pkg.info['Special Notes'].lower() and s_truck.time.time_delta < time(9,5):\n",
    "                    self.south_bound_hold.append(pkg)\n",
    "                elif 'wrong address' in pkg.info['Special Notes'].lower() and s_truck.time.time_delta < time(10,20):\n",
    "                    self.south_bound_hold.append(pkg)\n",
    "                else:\n",
    "                    self.south_bound_ready.append(pkg)\n",
    "\n",
    "    def load_priority(self, truck):\n",
    "        while self.priority_ready:\n",
    "            pkg = self.priority_ready.pop(0)\n",
    "            pkg.en_route = truck.time.clock_time\n",
    "            truck.inventory.append(pkg)\n",
    "            if len(truck.inventory) == truck.capacity:\n",
    "                print('Truck is full')\n",
    "                break\n",
    "\n",
    "    def load_north_bound(self, truck):\n",
    "        while self.north_bound_ready:\n",
    "            pkg = self.north_bound_ready.pop(0)\n",
    "            pkg.en_route = truck.time.clock_time\n",
    "            truck.inventory.append(pkg)\n",
    "            if len(truck.inventory) == truck.capacity:\n",
    "                print('Truck is full')\n",
    "                break\n",
    "        if len(self.north_bound_ready) + len(self.north_bound_hold) > 0:\n",
    "            truck.return_needed = True\n",
    "        else:\n",
    "            truck.return_needed = False\n",
    "\n",
    "    def load_south_bound(self, truck):\n",
    "        while self.south_bound_ready:\n",
    "            pkg = self.south_bound_ready.pop(0)\n",
    "            pkg.en_route = truck.time.clock_time\n",
    "            truck.inventory.append(pkg)\n",
    "            if len(truck.inventory) == truck.capacity:\n",
    "                print('Truck is full')\n",
    "                break\n",
    "        if len(self.south_bound_ready) + len(self.south_bound_hold) > 0:\n",
    "            truck.return_needed = True\n",
    "        else:\n",
    "            truck.return_needed = False\n",
    "\n",
    "    def ready_held_packages(self,n_truck,s_truck):\n",
    "        while self.north_bound_hold:\n",
    "            pkg = self.north_bound_hold[0]\n",
    "            if 'delayed' in pkg.info['Special Notes'].lower() and n_truck.time.time_delta < time(9, 5):\n",
    "                continue\n",
    "            elif 'wrong address' in pkg.info['Special Notes'].lower() and n_truck.time.time_delta < time(10, 20):\n",
    "                continue\n",
    "            pkg = self.north_bound_hold.pop(0)\n",
    "            self.north_bound_ready.append(pkg)\n",
    "        while self.south_bound_hold:\n",
    "            pkg = self.south_bound_hold[0]\n",
    "            if 'delayed' in pkg.info['Special Notes'].lower() and s_truck.time.time_delta < time(9, 5):\n",
    "                continue\n",
    "            elif 'wrong address' in pkg.info['Special Notes'].lower() and s_truck.time.time_delta < time(10, 20):\n",
    "                continue\n",
    "            pkg = self.south_bound_hold.pop(0)\n",
    "            self.south_bound_ready.append(pkg)\n",
    "\n",
    "    def place_package_on_hold(self, pkg_id):\n",
    "        pass\n",
    "\n",
    "    def special_case_packages(self, special_case_list):\n",
    "        for pkg in self.inventory:\n",
    "            if pkg.info['package ID number'] in special_case_list:\n",
    "                pass\n",
    "\n",
    "from datetime import time, timedelta, date, datetime\n",
    "\n",
    "\n",
    "class Time:\n",
    "    def __init__(self, hrs, minutes):\n",
    "        self.time_delta = time(hrs, minutes, 0)\n",
    "        self.clock_time = datetime.combine(date.today(), self.time_delta).strftime(\"%H:%M %p\")\n",
    "\n",
    "    def add(self, _minutes_):\n",
    "        self.time_delta = (datetime.combine(date.today(), self.time_delta) + timedelta(minutes=_minutes_)).time()\n",
    "        self.clock_time = datetime.combine(date.today(), self.time_delta).strftime(\"%H:%M %p\")\n",
    "        print(self.clock_time)\n",
    "\n",
    "class Truck:\n",
    "    def __init__(self):\n",
    "        self.inventory = deque()\n",
    "        self.time = time_delta.Time(8, 0)\n",
    "        self.total_distance = 0\n",
    "        self.speed = 18\n",
    "        self.capacity = 16\n",
    "        self.delivered = 0\n",
    "        self.origin = 0\n",
    "        self.return_needed = False\n",
    "\n",
    "    def load(self, package):\n",
    "        if len(self.inventory) == self.capacity:\n",
    "            print('Truck is full')\n",
    "            return\n",
    "        self.inventory.append(package)\n",
    "\n",
    "    def minutes_per_mile(self, distance):\n",
    "        return round(60 / self.speed * distance, 0)\n",
    "\n",
    "    def deliver(self):\n",
    "        dict_dict = csv_reader.adjacency_matrix()\n",
    "        if len(self.inventory) == 0:\n",
    "            print('Empty')\n",
    "            return\n",
    "        elif self.time.time_delta > time(10, 20):\n",
    "            self.fix_wrong_address_package()\n",
    "        current_package = self.inventory.popleft()\n",
    "        print(current_package)\n",
    "        print(self.origin, '--->', current_package.info['vertex'])\n",
    "        distance = float(dict_dict[current_package.vertex][self.origin])\n",
    "        print('+', distance)\n",
    "        self.time.add(self.minutes_per_mile(distance))\n",
    "        self.total_distance += distance\n",
    "        print(round(self.total_distance, 2))\n",
    "        self.origin = current_package.vertex\n",
    "        self.delivered += 1\n",
    "        print(self.delivered, ' packages delivered')\n",
    "        current_package.delivered = self.time.clock_time\n",
    "        if len(self.inventory) == 0:\n",
    "            self.return_to_hub()\n",
    "\n",
    "    def return_to_hub(self):\n",
    "        print('Returning to Hub')\n",
    "        dict_dict = csv_reader.adjacency_matrix()\n",
    "        distance = float(dict_dict[0][self.origin])\n",
    "        self.time.add(self.minutes_per_mile(distance))\n",
    "        self.total_distance += distance\n",
    "        self.origin = 0\n",
    "        print(round(self.total_distance, 2))\n",
    "        print(self.time.clock_time)\n",
    "\n",
    "    def get_total_distance(self):\n",
    "        return round(self.total_distance, 2)\n",
    "\n",
    "    def fix_wrong_address_package(self):\n",
    "        for pkg in self.inventory:\n",
    "            if 'wrong address' in pkg.info['Special Notes'].lower():\n",
    "                pkg.info['vertex'] = 19\n",
    "\n",
    "class Package:\n",
    "    def __init__(self, package_id):\n",
    "        self.info = get_package_info(package_id)\n",
    "        self.vertex = int(self.info['vertex'])\n",
    "        self.at_hub = None\n",
    "        self.en_route = None\n",
    "        self.delivered = None\n",
    "\n",
    "    def __str__(self):\n",
    "        return str('Package: ' + self.info['package ID number'])"
   ]
  },
  {
   "cell_type": "code",
   "execution_count": null,
   "metadata": {},
   "outputs": [],
   "source": [
    "delivery_hub = Depot()\n",
    "delivery_hub.receive_packages()"
   ]
  },
  {
   "cell_type": "code",
   "execution_count": null,
   "metadata": {},
   "outputs": [],
   "source": [
    "pkg = delivery_hub.inventory[0]\n",
    "add = pd.DataFrame()\n",
    "add.loc[0,'package ID number'] = pkg.info['package ID number']\n",
    "add.loc[0,'vertex'] = pkg.info['vertex']\n",
    "add.loc[0,'delivery deadline'] = pkg.info['delivery deadline']\n",
    "add.loc[0,'delivery status'] = pkg.info['delivery status']"
   ]
  },
  {
   "cell_type": "code",
   "execution_count": null,
   "metadata": {},
   "outputs": [],
   "source": []
  },
  {
   "cell_type": "code",
   "execution_count": null,
   "metadata": {},
   "outputs": [],
   "source": [
    "len(test)"
   ]
  },
  {
   "cell_type": "code",
   "execution_count": null,
   "metadata": {},
   "outputs": [],
   "source": [
    "count = 0\n",
    "len_t = len(test)\n",
    "print(test)\n",
    "while count < len_t:\n",
    "    count += 1\n",
    "    print(test[0])\n",
    "    test.append(test.pop(0))\n",
    "    print(test)"
   ]
  },
  {
   "cell_type": "code",
   "execution_count": null,
   "metadata": {},
   "outputs": [],
   "source": [
    "test[0]"
   ]
  },
  {
   "cell_type": "code",
   "execution_count": null,
   "metadata": {},
   "outputs": [],
   "source": [
    "test.pop(0)"
   ]
  },
  {
   "cell_type": "code",
   "execution_count": 39,
   "metadata": {},
   "outputs": [
    {
     "name": "stdout",
     "output_type": "stream",
     "text": [
      "10:21 AM\n"
     ]
    }
   ],
   "source": [
    "from datetime import datetime\n",
    "t1 = '10:21'\n",
    "t2 = '1:00 AM'\n",
    "t_s = datetime.strptime(t1, '%H:%M')\n",
    "print(t_s.strftime(\"%H:%M %p\"))"
   ]
  },
  {
   "cell_type": "code",
   "execution_count": 32,
   "metadata": {},
   "outputs": [
    {
     "data": {
      "text/plain": [
       "True"
      ]
     },
     "execution_count": 32,
     "metadata": {},
     "output_type": "execute_result"
    }
   ],
   "source": [
    "datetime.strptime(t1, '%H:%M') > datetime.strptime(t2, '%H:%M %p')"
   ]
  },
  {
   "cell_type": "code",
   "execution_count": 40,
   "metadata": {},
   "outputs": [
    {
     "data": {
      "text/plain": [
       "True"
      ]
     },
     "execution_count": 40,
     "metadata": {},
     "output_type": "execute_result"
    }
   ],
   "source": [
    "datetime.strptime(t1, '%H:%M').time() > time(10,20)"
   ]
  },
  {
   "cell_type": "code",
   "execution_count": 35,
   "metadata": {},
   "outputs": [
    {
     "name": "stdout",
     "output_type": "stream",
     "text": [
      "1900-01-01 01:00:00\n"
     ]
    }
   ],
   "source": [
    "print(datetime.strptime(t2, '%H:%M %p'))"
   ]
  },
  {
   "cell_type": "code",
   "execution_count": null,
   "metadata": {},
   "outputs": [],
   "source": []
  },
  {
   "cell_type": "code",
   "execution_count": null,
   "metadata": {},
   "outputs": [],
   "source": [
    "test = []\n",
    "print(len(test))"
   ]
  },
  {
   "cell_type": "code",
   "execution_count": null,
   "metadata": {},
   "outputs": [],
   "source": [
    "import pandas as pd\n",
    "_id = []\n",
    "_vx = []\n",
    "_dd = []\n",
    "_sts = []\n",
    "\n",
    "for pkg in delivery_hub.inventory:\n",
    "    _id.append(pkg.info['package ID number'])\n",
    "    _vx.append(pkg.info['vertex'])\n",
    "    _dd.append(pkg.info['delivery deadline'])\n",
    "    _sts.append(pkg.info['delivery status'])\n",
    "df = pd.DataFrame({'package ID number': _id,'vertex':_vx,\n",
    "                   'delivery deadline': _dd,'delivery status':_sts})\n",
    "\n",
    "print(df.to_string(index=False))"
   ]
  },
  {
   "cell_type": "code",
   "execution_count": null,
   "metadata": {},
   "outputs": [],
   "source": []
  },
  {
   "cell_type": "code",
   "execution_count": null,
   "metadata": {},
   "outputs": [],
   "source": [
    "adj_matrix = df"
   ]
  },
  {
   "cell_type": "code",
   "execution_count": null,
   "metadata": {},
   "outputs": [],
   "source": [
    "def nearest_neighbor_list(curr_vertex, adj_matrix, _list_):\n",
    "    insert_index = 0\n",
    "    while True:\n",
    "        if insert_index == len(_list_)-1:\n",
    "            return _list_\n",
    "        nearest_dist = 2**32\n",
    "        for i in _list_[insert_index:]:\n",
    "            if adj_matrix.loc[i, curr_vertex] < nearest_dist:\n",
    "                nearest_dist = adj_matrix.loc[i,curr_vertex]\n",
    "                nearest_neighbor = i\n",
    "        _list_.insert(insert_index,_list_.pop(_list_.index(nearest_neighbor)))\n",
    "        curr_vertex = nearest_neighbor\n",
    "        insert_index +=1\n",
    "        #print(curr_vertex,'\\n',insert_index)"
   ]
  },
  {
   "cell_type": "code",
   "execution_count": null,
   "metadata": {},
   "outputs": [],
   "source": []
  },
  {
   "cell_type": "code",
   "execution_count": null,
   "metadata": {},
   "outputs": [],
   "source": [
    "package_file = 'WGU_package_file.csv'\n",
    "distance_file = 'WGUPS_distance_table.csv'\n",
    "\n",
    "\n",
    "def get_vertices():\n",
    "    vertices = []\n",
    "    import csv\n",
    "    with open(distance_file) as f:\n",
    "        spam = csv.DictReader(f)\n",
    "        for row in spam:\n",
    "            vertices.append(row['vertex'])\n",
    "    return vertices\n",
    "\n",
    "\n",
    "def get_vertex_adjacency(vertex):\n",
    "    vertex_adjacency_table = HashTable()\n",
    "    print(vertex)\n",
    "    if vertex == '0':\n",
    "        print(vertex)\n",
    "        return package.Package('1')\n",
    "    with open(distance_file) as f:\n",
    "        spam = csv.DictReader(f)\n",
    "        for row in spam:\n",
    "            vertex_adjacency_table.add(row['vertex'], row[vertex])\n",
    "    return vertex_adjacency_table\n",
    "\n",
    "\n",
    "def get_package_ids():\n",
    "    ids = []\n",
    "    with open(package_file) as f:\n",
    "        spam = csv.DictReader(f)\n",
    "        for row in spam:\n",
    "            ids.append(row['package ID number'])\n",
    "\n",
    "    return ids\n",
    "\n",
    "\n",
    "def get_package_info(package_id):\n",
    "    package_info = HashTable()\n",
    "    with open(package_file) as f:\n",
    "        spam = csv.DictReader(f)\n",
    "        headers = spam.fieldnames\n",
    "        for row in spam:\n",
    "            if row['package ID number'] == package_id:\n",
    "                for field in headers:\n",
    "                    package_info.add(field, row[field])\n",
    "\n",
    "    return package_info\n"
   ]
  },
  {
   "cell_type": "code",
   "execution_count": null,
   "metadata": {},
   "outputs": [],
   "source": [
    "class Package:\n",
    "    def __init__(self, package_id):\n",
    "        self.info = get_package_info(package_id)\n",
    "        \n",
    "    def __str__(self):\n",
    "        return str('Package: ' + self.info['package ID number'])"
   ]
  },
  {
   "cell_type": "code",
   "execution_count": null,
   "metadata": {},
   "outputs": [],
   "source": [
    "class Depot:\n",
    "    def __init__(self):\n",
    "        self.inventory = []\n",
    "\n",
    "    def receive_packages(self):\n",
    "        for item in get_package_ids():\n",
    "            self.inventory.append(Package(item))\n",
    "\n",
    "    def determine_route(self):\n",
    "        pass\n",
    "        #self.inventory = nearest_neighbor(self.origin, self.inventory)\n",
    "\n",
    "\n",
    "class Truck:\n",
    "    def __init__(self):\n",
    "        self.inventory = deque()\n",
    "        self.total_time = 0\n",
    "        self.total_distance = 0\n",
    "        self.speed = 18\n",
    "\n",
    "    def load(self, package):\n",
    "        self.inventory.append(package)\n",
    "\n",
    "    def minutes_per_mile(self, distance):\n",
    "        return round(60 / self.speed * distance, 0)\n",
    "\n",
    "    def deliver(self):\n",
    "        if len(self.inventory) == 0:\n",
    "            print('Empty')\n",
    "            return\n",
    "        current_package = self.inventory.popleft()\n",
    "        print(current_package)\n",
    "        print(self.origin, '--->', current_package.info['vertex'])\n",
    "        distance = float(current_package.distance.get(self.origin))\n",
    "        print(distance)\n",
    "        self.total_time += self.minutes_per_mile(distance)\n",
    "        self.total_distance += distance\n",
    "        print(round(self.total_distance, 2))\n",
    "        self.origin = current_package.info['vertex']\n",
    "\n",
    "    def total_time(self):\n",
    "        return self.total_time\n",
    "\n",
    "    def total_distance(self):\n",
    "        return round(self.total_distance, 2)\n",
    "\n",
    "    def mph(self):\n",
    "        return self.speed"
   ]
  },
  {
   "cell_type": "code",
   "execution_count": null,
   "metadata": {},
   "outputs": [],
   "source": [
    "d_d = {}\n",
    "for i in range(0,27):\n",
    "    d_d[i] = dict(adj_matrix.loc[:, str(i)])\n"
   ]
  },
  {
   "cell_type": "code",
   "execution_count": null,
   "metadata": {},
   "outputs": [],
   "source": [
    "distance_file = r'C:\\Users\\tssan\\PycharmProjects\\data_structures_algos_2\\data\\WGUPS_distance_table.csv'\n",
    "vertices = []\n",
    "import csv\n",
    "with open(distance_file) as f:\n",
    "    spam = csv.DictReader(f)\n",
    "    for row in spam:\n",
    "        vertices.append(row['vertex'])"
   ]
  },
  {
   "cell_type": "code",
   "execution_count": null,
   "metadata": {},
   "outputs": [],
   "source": [
    "dict_of_dict = {}\n",
    "for i in range(len(vertices)):\n",
    "    single_dict = {}\n",
    "    with open(distance_file) as f:\n",
    "        spam = csv.DictReader(f)\n",
    "        for row in spam:\n",
    "            single_dict[int(row['vertex'])] = float(row[str(i)])\n",
    "    dict_of_dict[i] = single_dict"
   ]
  },
  {
   "cell_type": "code",
   "execution_count": null,
   "metadata": {},
   "outputs": [],
   "source": [
    "dict_of_dict[20][21]"
   ]
  },
  {
   "cell_type": "code",
   "execution_count": null,
   "metadata": {},
   "outputs": [],
   "source": [
    "vertices = []\n",
    "with open(distance_file) as f:\n",
    "    spam = csv.DictReader(f)\n",
    "    for row in spam:\n",
    "        vertices.append(row['vertex'])\n",
    "dict_of_dict = {}\n",
    "for i in range(len(vertices)):\n",
    "    single_dict = {}\n",
    "    with open(distance_file) as f:\n",
    "        spam = csv.DictReader(f)\n",
    "        for row in spam:\n",
    "            single_dict[int(row['vertex'])] = float(row[str(i)])\n",
    "    dict_of_dict[i] = single_dict"
   ]
  },
  {
   "cell_type": "code",
   "execution_count": null,
   "metadata": {},
   "outputs": [],
   "source": [
    "dict_of_dict[16][19]"
   ]
  },
  {
   "cell_type": "code",
   "execution_count": null,
   "metadata": {},
   "outputs": [],
   "source": [
    "dict_of_dict[20][0]"
   ]
  },
  {
   "cell_type": "code",
   "execution_count": null,
   "metadata": {},
   "outputs": [],
   "source": [
    "dict_of_dict[19][0]"
   ]
  },
  {
   "cell_type": "code",
   "execution_count": null,
   "metadata": {},
   "outputs": [],
   "source": [
    "round(60 / 18 * 46, 0)"
   ]
  },
  {
   "cell_type": "code",
   "execution_count": null,
   "metadata": {},
   "outputs": [],
   "source": [
    "from collections import deque\n",
    "must_be = [0,2,3,4,5]\n",
    "inv = deque([1,2,4,5,8,9])\n",
    "\n",
    "\n",
    "while not all(pkg in inv for pkg in must_be):\n",
    "    for pkg in must_be:\n",
    "        if pkg not in inv:\n",
    "            print(inv)\n",
    "            inv.pop()\n",
    "            print(inv)\n",
    "            inv.appendleft(pkg)\n",
    "            print(inv)\n",
    "            print('next')"
   ]
  },
  {
   "cell_type": "markdown",
   "metadata": {},
   "source": [
    "13,14 ,15,16,19,20"
   ]
  },
  {
   "cell_type": "code",
   "execution_count": null,
   "metadata": {},
   "outputs": [],
   "source": [
    "prio = [6,20,21,21,4,17]"
   ]
  },
  {
   "cell_type": "code",
   "execution_count": null,
   "metadata": {},
   "outputs": [],
   "source": [
    "def nearest_neighbor(curr_vertex, _list_):\n",
    "    insert_index = 0\n",
    "    better_list = []\n",
    "    while _list_:\n",
    "        if len(_list_) == 1:\n",
    "            better_list.append(_list_.pop(0))\n",
    "            return better_list\n",
    "        nearest_dist = 2 ** 32\n",
    "        for pkg in _list_[insert_index:]:\n",
    "            if dict_of_dict[curr_vertex][pkg] < nearest_dist:\n",
    "                nearest_dist = dict_of_dict[curr_vertex][pkg]\n",
    "                nearest_package = pkg\n",
    "                nearest_vertex = pkg\n",
    "        _next_ = _list_.pop(_list_.index(nearest_package))\n",
    "        better_list.append(_next_)\n",
    "        curr_vertex = nearest_vertex"
   ]
  },
  {
   "cell_type": "code",
   "execution_count": null,
   "metadata": {},
   "outputs": [],
   "source": [
    "nearest_neighbor(0,prio)"
   ]
  },
  {
   "cell_type": "code",
   "execution_count": null,
   "metadata": {},
   "outputs": [],
   "source": [
    "sum_ = 0 \n",
    "curr = 6\n",
    "for i in nearest_neighbor(6,prio):\n",
    "    sum_ += dict_of_dict[curr][i]\n",
    "    curr=i\n",
    "    print(sum_)"
   ]
  },
  {
   "cell_type": "code",
   "execution_count": null,
   "metadata": {},
   "outputs": [],
   "source": [
    "dict_dict = dict_of_dict\n",
    "maximum = -1\n",
    "for i in dict_dict.keys():\n",
    "    for j in dict_dict.keys():\n",
    "        if dict_dict[i][j] > maximum:\n",
    "            maximum = dict_dict[i][j]\n",
    "            north = j\n",
    "            south = i\n",
    "minimum = 2 ** 32\n",
    "mid = maximum / 2\n",
    "skip = [north, south]\n",
    "for v in dict_dict.keys():\n",
    "    if v not in skip:\n",
    "        sum_dist = dict_dict[v][north] + dict_dict[v][south]\n",
    "        avg_dist = sum_dist / 2\n",
    "        dif_dist = abs(avg_dist - mid)\n",
    "        if dif_dist < minimum:\n",
    "            minimum = dif_dist\n",
    "            midpoint = v\n",
    "skip.append(midpoint)\n",
    "north_bound = [north]\n",
    "south_bound = [south]\n",
    "for v in dict_dict.keys():\n",
    "    if v not in skip:\n",
    "        if dict_dict[north][v] <= dict_dict[north][midpoint]:\n",
    "            north_bound.append(v)\n",
    "        else:\n",
    "            south_bound.append(v)\n",
    "if dict_dict[north][midpoint] < dict_dict[south][midpoint]:\n",
    "    north_bound.append(midpoint)\n",
    "else:\n",
    "    south_bound.append(midpoint)"
   ]
  },
  {
   "cell_type": "code",
   "execution_count": null,
   "metadata": {},
   "outputs": [],
   "source": [
    "north_bound"
   ]
  },
  {
   "cell_type": "code",
   "execution_count": null,
   "metadata": {},
   "outputs": [],
   "source": [
    "south_bound"
   ]
  },
  {
   "cell_type": "code",
   "execution_count": null,
   "metadata": {},
   "outputs": [],
   "source": [
    "d_d.keys()"
   ]
  },
  {
   "cell_type": "code",
   "execution_count": null,
   "metadata": {},
   "outputs": [],
   "source": [
    "delivery_hub = Depot()\n",
    "delivery_hub.receive_packages()\n",
    "delivery_hub.determine_route()\n"
   ]
  },
  {
   "cell_type": "code",
   "execution_count": null,
   "metadata": {},
   "outputs": [],
   "source": [
    "def nearest_neighbor_list(curr_vertex, adj_matrix, _list_):\n",
    "    insert_index = 0\n",
    "    while True:\n",
    "        if insert_index == len(_list_)-1:\n",
    "            return _list_\n",
    "        nearest_dist = 2**32\n",
    "        for i in _list_[insert_index:]:\n",
    "            if adj_matrix.loc['Vertex'=='1', '0'] < nearest_dist:\n",
    "                nearest_dist = adj_matrix.loc[int(i.info['vertex']),curr_vertex]\n",
    "                next_item = i\n",
    "                nearest_neighbor = i.info['vertex']\n",
    "        _list_.insert(insert_index,_list_.pop(_list_.index(nearest_neighbor)))\n",
    "        curr_vertex = nearest_neighbor\n",
    "        insert_index +=1\n",
    "        #print(curr_vertex,'\\n',insert_index)"
   ]
  },
  {
   "cell_type": "code",
   "execution_count": null,
   "metadata": {},
   "outputs": [],
   "source": [
    "adj_matrix"
   ]
  },
  {
   "cell_type": "code",
   "execution_count": null,
   "metadata": {},
   "outputs": [],
   "source": []
  },
  {
   "cell_type": "code",
   "execution_count": null,
   "metadata": {},
   "outputs": [],
   "source": [
    "nearest_neighbor_list('0',adj_matrix,delivery_hub.inventory)"
   ]
  }
 ],
 "metadata": {
  "kernelspec": {
   "display_name": "Python 3",
   "language": "python",
   "name": "python3"
  },
  "language_info": {
   "codemirror_mode": {
    "name": "ipython",
    "version": 3
   },
   "file_extension": ".py",
   "mimetype": "text/x-python",
   "name": "python",
   "nbconvert_exporter": "python",
   "pygments_lexer": "ipython3",
   "version": "3.7.3"
  }
 },
 "nbformat": 4,
 "nbformat_minor": 2
}
